{
 "cells": [
  {
   "cell_type": "markdown",
   "metadata": {},
   "source": [
    "# User routes on the site\n",
    "## Description\n",
    "**Clickstream** is a sequence of user actions on a website. It allows you to understand how users interact with the site. In this task, you need to find the most frequent custom routes.\n",
    "\n",
    "## Input data\n",
    "Input data is а table with clickstream data in file `hdfs:/data/clickstream.csv`.\n",
    "\n",
    "### Table structure\n",
    "* `user_id (int)` - Unique user identifier.\n",
    "* `session_id (int)` - Unique identifier for the user session. The user's session lasts until the identifier changes.\n",
    "* `event_type (string)` - Event type from the list:\n",
    "    * **page** - visit to the page\n",
    "    * **event** - any action on the page\n",
    "    * <b>&lt;custom&gt;</b> - string with any other type\n",
    "* `event_type (string)` - Page on the site.\n",
    "* `timestamp (int)` - Unix-timestamp of action.\n",
    "\n",
    "### Browser errors\n",
    "Errors can sometimes occur in the user's browser - after such an error appears, we can no longer trust the data of this session and all the following lines after the error or at the same time with it are considered corrupted and **should not be counted** in statistics.\n",
    "\n",
    "When an error occurs on the page, a random string containing the word **error** will be written to the `event_type` field.\n",
    "\n",
    "### Sample of user session\n",
    "<pre>\n",
    "+-------+----------+------------+----------+----------+\n",
    "|user_id|session_id|  event_type|event_page| timestamp|\n",
    "+-------+----------+------------+----------+----------+\n",
    "|    562|       507|        page|      main|1620494781|\n",
    "|    562|       507|       event|      main|1620494788|\n",
    "|    562|       507|       event|      main|1620494798|\n",
    "|    562|       507|        page|    family|1620494820|\n",
    "|    562|       507|       event|    family|1620494828|\n",
    "|    562|       507|        page|      main|1620494848|\n",
    "|    562|       507|wNaxLlerrorU|      main|1620494865|\n",
    "|    562|       507|       event|      main|1620494873|\n",
    "|    562|       507|        page|      news|1620494875|\n",
    "|    562|       507|        page|   tariffs|1620494876|\n",
    "|    562|       507|       event|   tariffs|1620494884|\n",
    "|    562|       514|        page|      main|1620728918|\n",
    "|    562|       514|       event|      main|1620729174|\n",
    "|    562|       514|        page|   archive|1620729674|\n",
    "|    562|       514|        page|     bonus|1620729797|\n",
    "|    562|       514|        page|   tariffs|1620731090|\n",
    "|    562|       514|       event|   tariffs|1620731187|\n",
    "+-------+----------+------------+----------+----------+\n",
    "</pre>\n",
    "\n",
    "#### Correct user routes for a given user:\n",
    "* **Session 507**: main-family-main\n",
    "* **Session 514**: main-archive-bonus-tariffs\n",
    "\n",
    "Route elements are ordered by the time they appear in the clickstream, from earliest to latest.\n",
    "\n",
    "The route must be accounted for completely before the end of the session or an error in the session.\n",
    "\n",
    "## Task\n",
    "You need to use the Spark SQL, Spark RDD and Spark DF interfaces to create a solution file, the lines of which contain **the 30 most frequent user routes** on the site.\n",
    "\n",
    "Each line of the file should contain the `route` and `count` values **separated by tabs**, where:\n",
    "* `route` - route on the site, consisting of pages separated by \"-\".\n",
    "* `count` - the number of user sessions in which this route was.\n",
    "\n",
    "The lines must be **ordered in descending order** of the `count` field.\n",
    "\n",
    "## Criteria\n",
    "You can get maximum of 3.5 points (final grade) for this assignment, depedning on the number of interface you manage to leverage. The criteria are as follows:\n",
    "\n",
    "* 0.5 points – Spark SQL solution with 1 query\n",
    "* 0.5 points – Spark SQL solution with <=2 queries\n",
    "* 0.5 points – Spark RDD solution\n",
    "* 0.5 points – Spark DF solution\n",
    "* 0.5 points – your solution algorithm is relatively optimized, i.e.: no O^2 or O^3 complexities; appropriate object usage; no data leaks etc. This is evaluated by staff.\n",
    "* 1 point – 1 on 1 screening session. During this session staff member can ask you questions regarding your solution logic, framework usage, questionable parts of your code etc. If your code is clean enough, the staff member can just ask you to solve a theoretical problem connected to Spark.\n"
   ]
  },
  {
   "cell_type": "markdown",
   "metadata": {},
   "source": [
    "# SOLUTION"
   ]
  },
  {
   "cell_type": "code",
   "execution_count": 1,
   "metadata": {
    "tags": []
   },
   "outputs": [
    {
     "name": "stderr",
     "output_type": "stream",
     "text": [
      "Setting default log level to \"WARN\".\n",
      "To adjust logging level use sc.setLogLevel(newLevel). For SparkR, use setLogLevel(newLevel).\n",
      "2023-10-07 17:46:50,840 WARN yarn.Client: Neither spark.yarn.jars nor spark.yarn.archive is set, falling back to uploading libraries under SPARK_HOME.\n"
     ]
    }
   ],
   "source": [
    "import findspark\n",
    "findspark.init()\n",
    "\n",
    "import pyspark\n",
    "sc = pyspark.SparkContext(appName='jupyter')\n",
    "\n",
    "from pyspark.sql import SparkSession, Row\n",
    "se = SparkSession(sc)"
   ]
  },
  {
   "cell_type": "code",
   "execution_count": 2,
   "metadata": {
    "tags": []
   },
   "outputs": [],
   "source": [
    "import re"
   ]
  },
  {
   "cell_type": "code",
   "execution_count": 3,
   "metadata": {
    "tags": []
   },
   "outputs": [
    {
     "name": "stderr",
     "output_type": "stream",
     "text": [
      "                                                                                \r"
     ]
    },
    {
     "data": {
      "text/html": [
       "<div>\n",
       "<style scoped>\n",
       "    .dataframe tbody tr th:only-of-type {\n",
       "        vertical-align: middle;\n",
       "    }\n",
       "\n",
       "    .dataframe tbody tr th {\n",
       "        vertical-align: top;\n",
       "    }\n",
       "\n",
       "    .dataframe thead th {\n",
       "        text-align: right;\n",
       "    }\n",
       "</style>\n",
       "<table border=\"1\" class=\"dataframe\">\n",
       "  <thead>\n",
       "    <tr style=\"text-align: right;\">\n",
       "      <th></th>\n",
       "      <th>user_id</th>\n",
       "      <th>session_id</th>\n",
       "      <th>event_type</th>\n",
       "      <th>event_page</th>\n",
       "      <th>timestamp</th>\n",
       "    </tr>\n",
       "  </thead>\n",
       "  <tbody>\n",
       "    <tr>\n",
       "      <th>0</th>\n",
       "      <td>562</td>\n",
       "      <td>507</td>\n",
       "      <td>page</td>\n",
       "      <td>main</td>\n",
       "      <td>1695584127</td>\n",
       "    </tr>\n",
       "    <tr>\n",
       "      <th>1</th>\n",
       "      <td>562</td>\n",
       "      <td>507</td>\n",
       "      <td>event</td>\n",
       "      <td>main</td>\n",
       "      <td>1695584134</td>\n",
       "    </tr>\n",
       "    <tr>\n",
       "      <th>2</th>\n",
       "      <td>562</td>\n",
       "      <td>507</td>\n",
       "      <td>event</td>\n",
       "      <td>main</td>\n",
       "      <td>1695584144</td>\n",
       "    </tr>\n",
       "    <tr>\n",
       "      <th>3</th>\n",
       "      <td>562</td>\n",
       "      <td>507</td>\n",
       "      <td>event</td>\n",
       "      <td>main</td>\n",
       "      <td>1695584147</td>\n",
       "    </tr>\n",
       "    <tr>\n",
       "      <th>4</th>\n",
       "      <td>562</td>\n",
       "      <td>507</td>\n",
       "      <td>wNaxLlerrorU</td>\n",
       "      <td>main</td>\n",
       "      <td>1695584154</td>\n",
       "    </tr>\n",
       "  </tbody>\n",
       "</table>\n",
       "</div>"
      ],
      "text/plain": [
       "  user_id session_id    event_type event_page   timestamp\n",
       "0     562        507          page       main  1695584127\n",
       "1     562        507         event       main  1695584134\n",
       "2     562        507         event       main  1695584144\n",
       "3     562        507         event       main  1695584147\n",
       "4     562        507  wNaxLlerrorU       main  1695584154"
      ]
     },
     "execution_count": 3,
     "metadata": {},
     "output_type": "execute_result"
    }
   ],
   "source": [
    "# load data\n",
    "\n",
    "clicks = se.read.csv(\"hdfs:/data/clickstream.csv\", sep = \"\\t\", header=True) \n",
    "clicks.registerTempTable(\"clicks\")\n",
    "clicks.limit(5).toPandas()"
   ]
  },
  {
   "cell_type": "markdown",
   "metadata": {},
   "source": [
    "### A small note about differences in results\n",
    "\n",
    "The results from SQL, RDD and DF solutions are generally the same, but show +-1 difference in numbers. This happens due to non-error events having the same timestamp and different ordering may produce different routes.. \n",
    "\n",
    "For example: "
   ]
  },
  {
   "cell_type": "code",
   "execution_count": 4,
   "metadata": {
    "tags": []
   },
   "outputs": [
    {
     "name": "stderr",
     "output_type": "stream",
     "text": [
      "                                                                                \r"
     ]
    },
    {
     "name": "stdout",
     "output_type": "stream",
     "text": [
      "+-------+----------+----------+----------+----------+\n",
      "|user_id|session_id|event_type|event_page| timestamp|\n",
      "+-------+----------+----------+----------+----------+\n",
      "|   1066|       912|      page|      main|1696616889|\n",
      "|   1066|       912|     event|      main|1696616894|\n",
      "|   1066|       912|     event|      main|1696616902|\n",
      "|   1066|       912|     event|      main|1696616910|\n",
      "|   1066|       912|      page|    rabota|1696616919|\n",
      "|   1066|       912|      page|     bonus|1696616919|\n",
      "|   1066|       912|     event|     bonus|1696616922|\n",
      "|   1066|       912|     event|     bonus|1696616928|\n",
      "|   1066|       912|      page|    online|1696616935|\n",
      "|   1066|       912|      page|   archive|1696616939|\n",
      "|   1066|       912|     event|   archive|1696616949|\n",
      "|   1066|       912|     event|   archive|1696616955|\n",
      "|   1066|       912|      page|    online|1696616957|\n",
      "|   1066|       912|     event|    online|1696616962|\n",
      "+-------+----------+----------+----------+----------+\n",
      "\n"
     ]
    }
   ],
   "source": [
    "se.sql(\"\"\"\n",
    "SELECT *\n",
    "FROM clicks AS c\n",
    "WHERE user_id == 1066 AND session_id == 912;\n",
    "\"\"\").show(20)"
   ]
  },
  {
   "cell_type": "markdown",
   "metadata": {},
   "source": [
    "Here, there are two events at timestamp 1696616919, rabota and bonus. Depending on how the ordering is performed, the may create a subroute main - rabota - bonus or main - bonus - rabota - bonus."
   ]
  },
  {
   "cell_type": "markdown",
   "metadata": {},
   "source": [
    "## SQL Solution\n",
    "\n",
    "From bottom to top approach:  \n",
    "1. Begin by creating a table that has lagged events - we will use it later to remove repeated events on the same page"
   ]
  },
  {
   "cell_type": "code",
   "execution_count": 5,
   "metadata": {},
   "outputs": [
    {
     "name": "stderr",
     "output_type": "stream",
     "text": [
      "[Stage 10:============================================>           (19 + 2) / 24]\r"
     ]
    },
    {
     "name": "stdout",
     "output_type": "stream",
     "text": [
      "+----------+--------+\n",
      "|event_page|count(1)|\n",
      "+----------+--------+\n",
      "|      news|       7|\n",
      "|      main|   48596|\n",
      "|    rabota|       8|\n",
      "|   archive|       2|\n",
      "|     bonus|       5|\n",
      "|    online|       3|\n",
      "|  internet|       2|\n",
      "|   digital|       1|\n",
      "+----------+--------+\n",
      "\n"
     ]
    },
    {
     "name": "stderr",
     "output_type": "stream",
     "text": [
      "                                                                                \r"
     ]
    }
   ],
   "source": [
    "# check - do all routes start with \"main\" event?\n",
    "# it appears that no\n",
    "\n",
    "se.sql(\"\"\"\n",
    "SELECT \n",
    "    event_page,\n",
    "    COUNT(*)\n",
    "FROM (\n",
    "    SELECT *\n",
    "    FROM clicks as l\n",
    "    LEFT JOIN (\n",
    "        SELECT \n",
    "            c.user_id, \n",
    "            c.session_id,\n",
    "            MIN(c.timestamp) AS minstamp,\n",
    "            1 AS mark\n",
    "        FROM clicks AS c\n",
    "        GROUP BY c.user_id, c.session_id\n",
    "        ORDER BY c.user_id, c.session_id, 3\n",
    "    ) AS r\n",
    "    ON l.user_id = r.user_id\n",
    "        AND l.session_id = r.session_id\n",
    "        AND l.timestamp = r.minstamp\n",
    "    WHERE minstamp IS NOT NULL\n",
    "    ORDER BY l.user_id, l.session_id, l.timestamp) AS tbl1\n",
    "GROUP BY event_page;\n",
    "\"\"\").show(300)"
   ]
  },
  {
   "cell_type": "code",
   "execution_count": 6,
   "metadata": {
    "tags": []
   },
   "outputs": [
    {
     "name": "stderr",
     "output_type": "stream",
     "text": [
      "                                                                                \r"
     ]
    },
    {
     "name": "stdout",
     "output_type": "stream",
     "text": [
      "+----------+--------+\n",
      "|event_type|count(1)|\n",
      "+----------+--------+\n",
      "|      page|   48551|\n",
      "|     event|      72|\n",
      "|   SerrorN|       1|\n",
      "+----------+--------+\n",
      "\n"
     ]
    }
   ],
   "source": [
    "# check - do all routes start with \"page\" event?\n",
    "# it appears that no, so we need to use LAG to determine change of event page\n",
    "\n",
    "se.sql(\"\"\"\n",
    "SELECT \n",
    "    event_type,\n",
    "    COUNT(*)\n",
    "FROM (\n",
    "    SELECT *\n",
    "    FROM clicks as l\n",
    "    LEFT JOIN (\n",
    "        SELECT \n",
    "            c.user_id, \n",
    "            c.session_id,\n",
    "            MIN(c.timestamp) AS minstamp,\n",
    "            1 AS mark\n",
    "        FROM clicks AS c\n",
    "        GROUP BY c.user_id, c.session_id\n",
    "        ORDER BY c.user_id, c.session_id, 3\n",
    "    ) AS r\n",
    "    ON l.user_id = r.user_id\n",
    "        AND l.session_id = r.session_id\n",
    "        AND l.timestamp = r.minstamp\n",
    "    WHERE minstamp IS NOT NULL\n",
    "    ORDER BY l.user_id, l.session_id, l.timestamp) AS tbl1\n",
    "GROUP BY event_type;\n",
    "\"\"\").show(300)"
   ]
  },
  {
   "cell_type": "code",
   "execution_count": 7,
   "metadata": {
    "tags": []
   },
   "outputs": [
    {
     "name": "stderr",
     "output_type": "stream",
     "text": [
      "[Stage 25:==================================>                     (11 + 2) / 18]\r"
     ]
    },
    {
     "name": "stdout",
     "output_type": "stream",
     "text": [
      "+-------+----------+----------+----------+----------+------------+\n",
      "|user_id|session_id|event_type|event_page| timestamp|lagged_event|\n",
      "+-------+----------+----------+----------+----------+------------+\n",
      "|      0|       874|      page|      main|1696371064|           0|\n",
      "|      0|       874|     event|      main|1696372696|        main|\n",
      "|      0|       874|     event|      main|1696373564|        main|\n",
      "|      0|       874|      page|    rabota|1696374894|        main|\n",
      "|      0|       874|     event|    rabota|1696377393|      rabota|\n",
      "|      0|       874|      page|    online|1696378229|      rabota|\n",
      "|      0|       874|     event|    online|1696378928|      online|\n",
      "|      0|       879|      page|      main|1696768416|           0|\n",
      "|      0|       879|      page|    online|1696768738|        main|\n",
      "|      0|       879|      page|   tariffs|1696768973|      online|\n",
      "+-------+----------+----------+----------+----------+------------+\n",
      "only showing top 10 rows\n",
      "\n"
     ]
    },
    {
     "name": "stderr",
     "output_type": "stream",
     "text": [
      "                                                                                \r"
     ]
    }
   ],
   "source": [
    "# Self-joined table\n",
    "\n",
    "se.sql(\"\"\"\n",
    "SELECT\n",
    "    *,\n",
    "    LAG(c.event_page, 1, 0) OVER (PARTITION BY c.user_id, c.session_id ORDER BY c.timestamp ASC) AS lagged_event\n",
    "FROM clicks AS c\n",
    "ORDER BY c.user_id, c.session_id, c.timestamp\n",
    "\"\"\").show(10)"
   ]
  },
  {
   "cell_type": "markdown",
   "metadata": {},
   "source": [
    "2. Next, we need a table of errors: find rows where there is `error` text in the event type"
   ]
  },
  {
   "cell_type": "code",
   "execution_count": 8,
   "metadata": {
    "tags": []
   },
   "outputs": [
    {
     "name": "stdout",
     "output_type": "stream",
     "text": [
      "+-------+----------+----------+--------+\n",
      "|user_id|session_id| timestamp|is_error|\n",
      "+-------+----------+----------+--------+\n",
      "|    562|       507|1695584154|       1|\n",
      "|   4567|       514|1695584351|       1|\n",
      "|    461|       174|1695584529|       1|\n",
      "|    844|       258|1695584652|       1|\n",
      "|    461|       174|1695584698|       1|\n",
      "|    805|       626|1695585321|       1|\n",
      "|   4567|       514|1695586124|       1|\n",
      "|   3972|        31|1695586342|       1|\n",
      "|    512|       781|1695586400|       1|\n",
      "|    512|       781|1695586562|       1|\n",
      "+-------+----------+----------+--------+\n",
      "only showing top 10 rows\n",
      "\n"
     ]
    }
   ],
   "source": [
    "# Errors\n",
    "\n",
    "se.sql(\"\"\"\n",
    "SELECT user_id, session_id, timestamp, 1 AS is_error\n",
    "FROM clicks\n",
    "WHERE event_type LIKE \"%error%\"\n",
    "\"\"\").show(10)"
   ]
  },
  {
   "cell_type": "markdown",
   "metadata": {},
   "source": [
    "3. Next we semi-join the two tables, so that all timestamps higher than the error timestamp within user-id and session-id keys are marked as errors."
   ]
  },
  {
   "cell_type": "code",
   "execution_count": 9,
   "metadata": {
    "tags": []
   },
   "outputs": [
    {
     "name": "stderr",
     "output_type": "stream",
     "text": [
      "                                                                                \r"
     ]
    },
    {
     "name": "stdout",
     "output_type": "stream",
     "text": [
      "+-------+----------+----------+----------+----------+------------+--------+\n",
      "|user_id|session_id|event_type|event_page| timestamp|lagged_event|is_error|\n",
      "+-------+----------+----------+----------+----------+------------+--------+\n",
      "|      0|       874|      page|      main|1696371064|           0|    null|\n",
      "|      0|       874|     event|      main|1696372696|        main|    null|\n",
      "|      0|       874|     event|      main|1696373564|        main|    null|\n",
      "|      0|       874|      page|    rabota|1696374894|        main|    null|\n",
      "|      0|       874|     event|    rabota|1696377393|      rabota|    null|\n",
      "|      0|       874|      page|    online|1696378229|      rabota|    null|\n",
      "|      0|       874|     event|    online|1696378928|      online|    null|\n",
      "|      0|       879|      page|      main|1696768416|           0|    null|\n",
      "|      0|       879|      page|    online|1696768738|        main|    null|\n",
      "|      0|       879|      page|   tariffs|1696768973|      online|    null|\n",
      "|      0|       879|      page|    online|1696769277|     tariffs|    null|\n",
      "|      0|       879|     event|    online|1696770139|      online|    null|\n",
      "|      0|       879|     event|    online|1696771080|      online|    null|\n",
      "|      0|       879|     event|    online|1696771672|      online|    null|\n",
      "|      0|       879|     event|    online|1696771697|      online|    null|\n",
      "|      0|       879|     event|    online|1696771906|      online|    null|\n",
      "|      0|       879|     event|    online|1696772091|      online|    null|\n",
      "|      0|       879|     event|    online|1696772237|      online|    null|\n",
      "|      0|       879|     event|    online|1696772401|      online|    null|\n",
      "|      0|       879|     event|    online|1696772594|      online|    null|\n",
      "|      0|       879|     event|    online|1696772694|      online|    null|\n",
      "|      0|       879|      page|      main|1696773185|      online|    null|\n",
      "|      0|       879|      page|  internet|1696774086|        main|    null|\n",
      "|      0|       879|     event|  internet|1696775448|    internet|    null|\n",
      "|      0|       879|     event|  internet|1696775532|    internet|    null|\n",
      "|      0|       879|      page|    online|1696776502|    internet|    null|\n",
      "|      0|       879|     event|    online|1696776518|      online|    null|\n",
      "|      0|       879| errorcITx|    online|1696777359|      online|       1|\n",
      "|      0|       879|      page|   archive|1696777784|      online|       1|\n",
      "|      0|       879|      page|    rabota|1696777821|     archive|       1|\n",
      "+-------+----------+----------+----------+----------+------------+--------+\n",
      "only showing top 30 rows\n",
      "\n"
     ]
    }
   ],
   "source": [
    "# Timestamps after errors\n",
    "\n",
    "se.sql(\"\"\"\n",
    "SELECT DISTINCT\n",
    "    c.user_id,\n",
    "    c.session_id,\n",
    "    c.event_type,\n",
    "    c.event_page,\n",
    "    c.timestamp,\n",
    "    c.lagged_event,\n",
    "    e.is_error\n",
    "FROM (\n",
    "    SELECT DISTINCT\n",
    "        *,\n",
    "        LAG(c.event_page, 1, 0) OVER (PARTITION BY c.user_id, c.session_id ORDER BY c.timestamp ASC) AS lagged_event\n",
    "    FROM clicks AS c\n",
    "    ORDER BY c.user_id, c.session_id, c.timestamp) \n",
    "AS c\n",
    "LEFT JOIN (\n",
    "    SELECT DISTINCT user_id, session_id, timestamp, 1 AS is_error\n",
    "    FROM clicks\n",
    "    WHERE event_type LIKE \"%error%\"\n",
    "    ) AS e\n",
    "ON\n",
    "    c.user_id = e.user_id\n",
    "    AND c.session_id = e.session_id\n",
    "    AND c.timestamp >= e.timestamp\n",
    "ORDER BY c.user_id, c.session_id, c.timestamp\n",
    "\"\"\").show(30)"
   ]
  },
  {
   "cell_type": "markdown",
   "metadata": {},
   "source": [
    "4. We filter the last table, removing errors and rows where current and previous events are the same."
   ]
  },
  {
   "cell_type": "code",
   "execution_count": 10,
   "metadata": {
    "tags": []
   },
   "outputs": [
    {
     "name": "stderr",
     "output_type": "stream",
     "text": [
      "[Stage 38:=================================================>      (16 + 2) / 18]\r"
     ]
    },
    {
     "name": "stdout",
     "output_type": "stream",
     "text": [
      "+-------+----------+----------+----------+\n",
      "|user_id|session_id|event_page|timestamp |\n",
      "+-------+----------+----------+----------+\n",
      "|0      |874       |main      |1696371064|\n",
      "|0      |874       |rabota    |1696374894|\n",
      "|0      |874       |online    |1696378229|\n",
      "|0      |879       |main      |1696768416|\n",
      "|0      |879       |online    |1696768738|\n",
      "|0      |879       |tariffs   |1696768973|\n",
      "|0      |879       |online    |1696769277|\n",
      "|0      |879       |main      |1696773185|\n",
      "|0      |879       |internet  |1696774086|\n",
      "|0      |879       |online    |1696776502|\n",
      "|0      |885       |main      |1697348270|\n",
      "|0      |888       |main      |1697564550|\n",
      "|0      |898       |main      |1697594437|\n",
      "|0      |898       |news      |1697596341|\n",
      "|0      |898       |tariffs   |1697598240|\n",
      "|0      |898       |rabota    |1697600131|\n",
      "|0      |898       |bonus     |1697605450|\n",
      "|0      |898       |tariffs   |1697611362|\n",
      "|0      |898       |bonus     |1697612492|\n",
      "|0      |898       |internet  |1697614807|\n",
      "|0      |898       |news      |1697618742|\n",
      "|0      |898       |tariffs   |1697619069|\n",
      "|0      |898       |online    |1697619756|\n",
      "|0      |898       |archive   |1697624953|\n",
      "|0      |901       |main      |1698989569|\n",
      "|0      |901       |internet  |1698989737|\n",
      "|0      |901       |bonus     |1698989797|\n",
      "|0      |901       |main      |1698989993|\n",
      "|0      |901       |internet  |1698990779|\n",
      "|0      |901       |vklad     |1698991260|\n",
      "+-------+----------+----------+----------+\n",
      "only showing top 30 rows\n",
      "\n"
     ]
    },
    {
     "name": "stderr",
     "output_type": "stream",
     "text": [
      "                                                                                \r"
     ]
    }
   ],
   "source": [
    "se.sql(\"\"\"\n",
    "SELECT DISTINCT\n",
    "    user_id,\n",
    "    session_id,\n",
    "    event_page,\n",
    "    timestamp\n",
    "FROM (\n",
    "    SELECT DISTINCT\n",
    "        c.user_id,\n",
    "        c.session_id,\n",
    "        c.event_type,\n",
    "        c.event_page,\n",
    "        c.timestamp,\n",
    "        c.lagged_event,\n",
    "        e.is_error\n",
    "    FROM (\n",
    "        SELECT DISTINCT\n",
    "            *,\n",
    "            LAG(c.event_page, 1, 0) OVER (PARTITION BY c.user_id, c.session_id ORDER BY c.timestamp ASC) AS lagged_event\n",
    "        FROM clicks AS c\n",
    "        ORDER BY c.user_id, c.session_id, c.timestamp) \n",
    "    AS c\n",
    "    LEFT JOIN (\n",
    "        SELECT DISTINCT user_id, session_id, timestamp, 1 AS is_error\n",
    "        FROM clicks\n",
    "        WHERE event_type LIKE \"%error%\"\n",
    "        ) AS e\n",
    "    ON\n",
    "        c.user_id = e.user_id\n",
    "        AND c.session_id = e.session_id\n",
    "        AND c.timestamp >= e.timestamp\n",
    "    ORDER BY c.user_id, c.session_id, c.timestamp) AS tbl1\n",
    "WHERE \n",
    "    is_error IS NULL\n",
    "    AND NOT event_page = lagged_event\n",
    "    OR lagged_event = 0\n",
    "ORDER BY tbl1.user_id, tbl1.session_id, tbl1.timestamp;\n",
    "\"\"\").show(30, False)"
   ]
  },
  {
   "cell_type": "markdown",
   "metadata": {},
   "source": [
    "5. We take the last table, create a route for each user-session combination."
   ]
  },
  {
   "cell_type": "code",
   "execution_count": 11,
   "metadata": {
    "tags": []
   },
   "outputs": [
    {
     "name": "stderr",
     "output_type": "stream",
     "text": [
      "                                                                                \r"
     ]
    },
    {
     "name": "stdout",
     "output_type": "stream",
     "text": [
      "+-------+----------+-----------------------------------------------------------------------------------------------------------------------------------------------------------------------------------------------------------------------------------------------------------+\n",
      "|user_id|session_id|route                                                                                                                                                                                                                                                      |\n",
      "+-------+----------+-----------------------------------------------------------------------------------------------------------------------------------------------------------------------------------------------------------------------------------------------------------+\n",
      "|0      |874       |main-rabota-online                                                                                                                                                                                                                                         |\n",
      "|0      |879       |main-online-tariffs-online-main-internet-online                                                                                                                                                                                                            |\n",
      "|0      |885       |main                                                                                                                                                                                                                                                       |\n",
      "|0      |888       |main                                                                                                                                                                                                                                                       |\n",
      "|0      |898       |main-news-tariffs-rabota-bonus-tariffs-bonus-internet-news-tariffs-online-archive                                                                                                                                                                          |\n",
      "|0      |901       |main-internet-bonus-main-internet-vklad-main-rabota-online-main-internet-rabota-tariffs-bonus-online-rabota-vklad-news-bonus-rabota                                                                                                                        |\n",
      "|0      |907       |main-digital-news-internet-news-rabota                                                                                                                                                                                                                     |\n",
      "|0      |912       |main-vklad                                                                                                                                                                                                                                                 |\n",
      "|0      |922       |main-news-archive-tariffs-rabota-bonus-main-tariffs-archive-bonus-tariffs-archive-news-archive-vklad-archive-main-internet-main-tariffs-main-internet-online-rabota-main-tariffs-online-internet-bonus-vklad-rabota-archive-main-online-bonus-archive-bonus|\n",
      "|0      |930       |main-bonus-news-digital                                                                                                                                                                                                                                    |\n",
      "|1      |1009      |main-tariffs                                                                                                                                                                                                                                               |\n",
      "|1      |1013      |main-tariffs-online-tariffs                                                                                                                                                                                                                                |\n",
      "|1      |1019      |main-rabota-internet-tariffs-internet-archive-bonus                                                                                                                                                                                                        |\n",
      "|1      |1026      |main                                                                                                                                                                                                                                                       |\n",
      "|1      |1030      |main-archive                                                                                                                                                                                                                                               |\n",
      "|1      |1036      |main                                                                                                                                                                                                                                                       |\n",
      "|1      |1038      |main                                                                                                                                                                                                                                                       |\n",
      "|1      |954       |main-bonus                                                                                                                                                                                                                                                 |\n",
      "|1      |963       |main-news                                                                                                                                                                                                                                                  |\n",
      "|1      |972       |main-online-archive-tariffs-archive-main-digital                                                                                                                                                                                                           |\n",
      "|1      |979       |main-rabota-archive-bonus-rabota                                                                                                                                                                                                                           |\n",
      "|1      |981       |main                                                                                                                                                                                                                                                       |\n",
      "|1      |983       |main-internet-tariffs                                                                                                                                                                                                                                      |\n",
      "|1      |991       |main-archive                                                                                                                                                                                                                                               |\n",
      "|1      |992       |main-rabota-internet-news-bonus                                                                                                                                                                                                                            |\n",
      "|1      |999       |main-vklad                                                                                                                                                                                                                                                 |\n",
      "|10     |725       |main-vklad-internet-news-bonus-main-archive-bonus-rabota-online-archive-bonus-main-bonus-internet-rabota-archive-rabota-archive                                                                                                                            |\n",
      "|10     |730       |main-archive-tariffs-online-main-rabota-bonus-online-main-rabota                                                                                                                                                                                           |\n",
      "|10     |735       |main-tariffs-bonus-tariffs                                                                                                                                                                                                                                 |\n",
      "|10     |737       |main-internet-news-rabota-internet                                                                                                                                                                                                                         |\n",
      "+-------+----------+-----------------------------------------------------------------------------------------------------------------------------------------------------------------------------------------------------------------------------------------------------------+\n",
      "only showing top 30 rows\n",
      "\n"
     ]
    }
   ],
   "source": [
    "se.sql(\"\"\"\n",
    "SELECT \n",
    "    user_id, \n",
    "    session_id, \n",
    "    concat_ws('-', sort_array(collect_list(struct(timestamp, event_page))).event_page) as route\n",
    "FROM (\n",
    "    SELECT DISTINCT\n",
    "        user_id,\n",
    "        session_id,\n",
    "        event_page,\n",
    "        timestamp\n",
    "    FROM (\n",
    "        SELECT DISTINCT\n",
    "            c.user_id,\n",
    "            c.session_id,\n",
    "            c.event_type,\n",
    "            c.event_page,\n",
    "            c.timestamp,\n",
    "            c.lagged_event,\n",
    "            e.is_error\n",
    "        FROM (\n",
    "            SELECT DISTINCT\n",
    "                *,\n",
    "                LAG(c.event_page, 1, 0) OVER (PARTITION BY c.user_id, c.session_id ORDER BY c.timestamp ASC) AS lagged_event\n",
    "            FROM clicks AS c\n",
    "            ORDER BY c.user_id, c.session_id, c.timestamp) \n",
    "        AS c\n",
    "        LEFT JOIN (\n",
    "            SELECT DISTINCT user_id, session_id, timestamp, 1 AS is_error\n",
    "            FROM clicks\n",
    "            WHERE event_type LIKE \"%error%\"\n",
    "            ) AS e\n",
    "        ON\n",
    "            c.user_id = e.user_id\n",
    "            AND c.session_id = e.session_id\n",
    "            AND c.timestamp >= e.timestamp\n",
    "        ORDER BY c.user_id, c.session_id, c.timestamp) AS tbl1\n",
    "    WHERE \n",
    "        is_error IS NULL\n",
    "        AND NOT event_page = lagged_event\n",
    "        OR lagged_event = 0) AS t1\n",
    "GROUP BY user_id, session_id\n",
    "ORDER BY user_id, session_id\n",
    "\"\"\").show(30, False)#.toPandas().to_csv('mycsv_sql.csv')"
   ]
  },
  {
   "cell_type": "markdown",
   "metadata": {},
   "source": [
    "6. Final table"
   ]
  },
  {
   "cell_type": "code",
   "execution_count": 12,
   "metadata": {
    "tags": []
   },
   "outputs": [
    {
     "name": "stderr",
     "output_type": "stream",
     "text": [
      "[Stage 50:=================================================>      (16 + 2) / 18]\r"
     ]
    },
    {
     "name": "stdout",
     "output_type": "stream",
     "text": [
      "+---------------------+-----+\n",
      "|route                |count|\n",
      "+---------------------+-----+\n",
      "|main                 |8185 |\n",
      "|main-archive         |1112 |\n",
      "|main-rabota          |1047 |\n",
      "|main-internet        |896  |\n",
      "|main-bonus           |870  |\n",
      "|main-news            |769  |\n",
      "|main-tariffs         |677  |\n",
      "|main-online          |587  |\n",
      "|main-vklad           |518  |\n",
      "|main-rabota-archive  |170  |\n",
      "|main-archive-rabota  |167  |\n",
      "|main-bonus-archive   |143  |\n",
      "|main-rabota-bonus    |138  |\n",
      "|main-bonus-rabota    |136  |\n",
      "|main-news-rabota     |135  |\n",
      "|main-archive-internet|132  |\n",
      "|main-rabota-news     |130  |\n",
      "|main-internet-rabota |129  |\n",
      "|main-archive-news    |126  |\n",
      "|main-rabota-internet |124  |\n",
      "|main-internet-archive|123  |\n",
      "|main-archive-bonus   |117  |\n",
      "|main-internet-bonus  |115  |\n",
      "|main-tariffs-internet|114  |\n",
      "|main-news-archive    |113  |\n",
      "|main-news-internet   |109  |\n",
      "|main-archive-tariffs |104  |\n",
      "|main-internet-news   |103  |\n",
      "|main-tariffs-archive |103  |\n",
      "|main-rabota-main     |94   |\n",
      "+---------------------+-----+\n",
      "only showing top 30 rows\n",
      "\n"
     ]
    },
    {
     "name": "stderr",
     "output_type": "stream",
     "text": [
      "                                                                                \r"
     ]
    }
   ],
   "source": [
    "se.sql(\"\"\"\n",
    "SELECT\n",
    "    route, \n",
    "    COUNT(*) AS count\n",
    "FROM (\n",
    "    SELECT \n",
    "        user_id, \n",
    "        session_id, \n",
    "        concat_ws('-', sort_array(collect_list(struct(timestamp, event_page))).event_page) as route\n",
    "    FROM (\n",
    "        SELECT DISTINCT\n",
    "            user_id,\n",
    "            session_id,\n",
    "            event_page,\n",
    "            timestamp\n",
    "        FROM (\n",
    "            SELECT DISTINCT\n",
    "                c.user_id,\n",
    "                c.session_id,\n",
    "                c.event_type,\n",
    "                c.event_page,\n",
    "                c.timestamp,\n",
    "                c.lagged_event,\n",
    "                e.is_error\n",
    "            FROM (\n",
    "                SELECT DISTINCT\n",
    "                    *,\n",
    "                    LAG(c.event_page, 1, 0) OVER (PARTITION BY c.user_id, c.session_id ORDER BY c.timestamp ASC) AS lagged_event\n",
    "                FROM clicks AS c\n",
    "                ORDER BY c.user_id, c.session_id, c.timestamp) \n",
    "            AS c\n",
    "            LEFT JOIN (\n",
    "                SELECT DISTINCT user_id, session_id, timestamp, 1 AS is_error\n",
    "                FROM clicks\n",
    "                WHERE event_type LIKE \"%error%\"\n",
    "                ) AS e\n",
    "            ON\n",
    "                c.user_id = e.user_id\n",
    "                AND c.session_id = e.session_id\n",
    "                AND c.timestamp >= e.timestamp\n",
    "            ORDER BY c.user_id, c.session_id, c.timestamp) AS tbl1\n",
    "        WHERE \n",
    "            is_error IS NULL\n",
    "            AND NOT event_page = lagged_event\n",
    "            OR lagged_event = 0) AS t1\n",
    "    GROUP BY user_id, session_id\n",
    "    ORDER BY user_id, session_id\n",
    "    ) AS t2\n",
    "GROUP BY route\n",
    "ORDER BY count DESC;\n",
    "\"\"\").show(30, False)"
   ]
  },
  {
   "cell_type": "markdown",
   "metadata": {},
   "source": [
    "Finally, save the output:"
   ]
  },
  {
   "cell_type": "code",
   "execution_count": 13,
   "metadata": {
    "tags": []
   },
   "outputs": [
    {
     "name": "stderr",
     "output_type": "stream",
     "text": [
      "                                                                                \r"
     ]
    }
   ],
   "source": [
    "se.sql(\"\"\"\n",
    "SELECT\n",
    "    route, \n",
    "    COUNT(*) AS count\n",
    "FROM (\n",
    "    SELECT \n",
    "        user_id, \n",
    "        session_id, \n",
    "        concat_ws('-', sort_array(collect_list(struct(timestamp, event_page))).event_page) as route\n",
    "    FROM (\n",
    "        SELECT DISTINCT\n",
    "            user_id,\n",
    "            session_id,\n",
    "            event_page,\n",
    "            timestamp\n",
    "        FROM (\n",
    "            SELECT DISTINCT\n",
    "                c.user_id,\n",
    "                c.session_id,\n",
    "                c.event_type,\n",
    "                c.event_page,\n",
    "                c.timestamp,\n",
    "                c.lagged_event,\n",
    "                e.is_error\n",
    "            FROM (\n",
    "                SELECT DISTINCT\n",
    "                    *,\n",
    "                    LAG(c.event_page, 1, 0) OVER (PARTITION BY c.user_id, c.session_id ORDER BY c.timestamp ASC) AS lagged_event\n",
    "                FROM clicks AS c\n",
    "                ORDER BY c.user_id, c.session_id, c.timestamp) \n",
    "            AS c\n",
    "            LEFT JOIN (\n",
    "                SELECT DISTINCT user_id, session_id, timestamp, 1 AS is_error\n",
    "                FROM clicks\n",
    "                WHERE event_type LIKE \"%error%\"\n",
    "                ) AS e\n",
    "            ON\n",
    "                c.user_id = e.user_id\n",
    "                AND c.session_id = e.session_id\n",
    "                AND c.timestamp >= e.timestamp\n",
    "            ORDER BY c.user_id, c.session_id, c.timestamp) AS tbl1\n",
    "        WHERE \n",
    "            is_error IS NULL\n",
    "            AND NOT event_page = lagged_event\n",
    "            OR lagged_event = 0) AS t1\n",
    "    GROUP BY user_id, session_id\n",
    "    ORDER BY user_id, session_id\n",
    "    ) AS t2\n",
    "GROUP BY route\n",
    "ORDER BY count DESC\n",
    "LIMIT 30;\n",
    "\"\"\").toPandas().to_csv('output_sql.txt', sep='\\t', index=False)"
   ]
  },
  {
   "cell_type": "markdown",
   "metadata": {},
   "source": [
    "## RDD Solution\n",
    "\n",
    "In this solution, we need to create serveral mappers for processing batches of data grouped by different keys."
   ]
  },
  {
   "cell_type": "code",
   "execution_count": 14,
   "metadata": {
    "tags": []
   },
   "outputs": [],
   "source": [
    "clicks_rdd = sc.textFile(\"hdfs:/data/clickstream.csv\")"
   ]
  },
  {
   "cell_type": "code",
   "execution_count": 15,
   "metadata": {
    "tags": []
   },
   "outputs": [],
   "source": [
    "# mapper to create tree structure from table\n",
    "\n",
    "def mapper(x):\n",
    "    lst = x.split(\"\\t\")\n",
    "    return [(lst[1], lst[0]), [lst[4], [lst[2], lst[3], lst[2].find(\"error\")]]]"
   ]
  },
  {
   "cell_type": "code",
   "execution_count": 16,
   "metadata": {
    "tags": []
   },
   "outputs": [
    {
     "data": {
      "text/plain": [
       "[('507', '562'), ['1695584127', ['page', 'bruUzJzerrorByY', -1]]]"
      ]
     },
     "execution_count": 16,
     "metadata": {},
     "output_type": "execute_result"
    }
   ],
   "source": [
    "# test\n",
    "\n",
    "mapper('562\\t507\\tpage\\tbruUzJzerrorByY\\t1695584127')"
   ]
  },
  {
   "cell_type": "code",
   "execution_count": 17,
   "metadata": {
    "tags": []
   },
   "outputs": [],
   "source": [
    "# mapper to mark lines after error: 1 if error, -1 if not\n",
    "\n",
    "def mapper_error(x):\n",
    "    \n",
    "    found_error = False\n",
    "    last_route = None\n",
    "    \n",
    "    for event in x[1]:\n",
    "        \n",
    "        if found_error:\n",
    "            event[1][2] = 1\n",
    "        elif event[1][2] > -1:\n",
    "            found_error = True\n",
    "            event[1][2] = 1\n",
    "        \n",
    "        if last_route is None:\n",
    "            last_route = event[1][1]\n",
    "            event[1].append(None)\n",
    "        else:\n",
    "            event[1].append(last_route)\n",
    "            last_route = event[1][1]\n",
    "            \n",
    "    return x"
   ]
  },
  {
   "cell_type": "code",
   "execution_count": 18,
   "metadata": {
    "tags": []
   },
   "outputs": [
    {
     "data": {
      "text/plain": [
       "[('486', '3121'),\n",
       " [['1695591308', ['page', 'main', -1, None]],\n",
       "  ['1695591324', ['uockKXVberrornBMUlkiIu', 'main', 1, 'main']],\n",
       "  ['1695591330', ['event', 'main', 1, 'main']],\n",
       "  ['1695591340', ['event', 'main', 1, 'main']],\n",
       "  ['1695591360', ['page', 'vklad', 1, 'main']],\n",
       "  ['1695591373', ['event', 'vklad', 1, 'vklad']],\n",
       "  ['1695591420', ['event', 'vklad', 1, 'vklad']],\n",
       "  ['1695591420', ['event', 'vklad', 1, 'vklad']],\n",
       "  ['1695591441', ['page', 'archive', 1, 'vklad']],\n",
       "  ['1695591459', ['event', 'archive', 1, 'archive']],\n",
       "  ['1695591463', ['event', 'archive', 1, 'archive']],\n",
       "  ['1695591473', ['page', 'digital', 1, 'archive']],\n",
       "  ['1695591483', ['event', 'digital', 1, 'digital']]]]"
      ]
     },
     "execution_count": 18,
     "metadata": {},
     "output_type": "execute_result"
    }
   ],
   "source": [
    "# test\n",
    "\n",
    "z = [('486', '3121'),\n",
    "  [['1695591308', ['page', 'main', -1]],\n",
    "   ['1695591324', ['uockKXVberrornBMUlkiIu', 'main', 8]],\n",
    "   ['1695591330', ['event', 'main', -1]],\n",
    "   ['1695591340', ['event', 'main', -1]],\n",
    "   ['1695591360', ['page', 'vklad', -1]],\n",
    "   ['1695591373', ['event', 'vklad', -1]],\n",
    "   ['1695591420', ['event', 'vklad', -1]],\n",
    "   ['1695591420', ['event', 'vklad', -1]],\n",
    "   ['1695591441', ['page', 'archive', -1]],\n",
    "   ['1695591459', ['event', 'archive', -1]],\n",
    "   ['1695591463', ['event', 'archive', -1]],\n",
    "   ['1695591473', ['page', 'digital', -1]],\n",
    "   ['1695591483', ['event', 'digital', -1]]]]\n",
    "z = mapper_error(z)\n",
    "z"
   ]
  },
  {
   "cell_type": "code",
   "execution_count": 19,
   "metadata": {
    "tags": []
   },
   "outputs": [],
   "source": [
    "# mapper to aggregate data grom group by to separate lines\n",
    "\n",
    "def demapper(x):\n",
    "    \n",
    "    out = []\n",
    "    \n",
    "    for elem in x[1]:\n",
    "        out.append([x[0], elem])\n",
    "        \n",
    "    return out"
   ]
  },
  {
   "cell_type": "code",
   "execution_count": 20,
   "metadata": {
    "tags": []
   },
   "outputs": [
    {
     "data": {
      "text/plain": [
       "[[('60', '3204'), ['1695589018', ['page', 'main', -1]]],\n",
       " [('60', '3204'), ['1695589071', ['page', 'internet', -1]]]]"
      ]
     },
     "execution_count": 20,
     "metadata": {},
     "output_type": "execute_result"
    }
   ],
   "source": [
    "# test\n",
    "\n",
    "z = [('60', '3204'),\n",
    "  [['1695589018', ['page', 'main', -1]],\n",
    "   ['1695589071', ['page', 'internet', -1]]]]\n",
    "demapper(z)"
   ]
  },
  {
   "cell_type": "code",
   "execution_count": 21,
   "metadata": {
    "tags": []
   },
   "outputs": [],
   "source": [
    "# mapper to obtain routes from series of records\n",
    "\n",
    "def get_route(x):\n",
    "    \n",
    "    routes = []\n",
    "    \n",
    "    for event in x[1]:\n",
    "        routes.append(event[1][1])\n",
    "        \n",
    "    return [x[0], \"-\".join(routes)]\n",
    "    "
   ]
  },
  {
   "cell_type": "code",
   "execution_count": 22,
   "metadata": {
    "tags": []
   },
   "outputs": [
    {
     "data": {
      "text/plain": [
       "[('914', '2211'), 'tariffs-bonus-rabota-vklad-main']"
      ]
     },
     "execution_count": 22,
     "metadata": {},
     "output_type": "execute_result"
    }
   ],
   "source": [
    "# test\n",
    "\n",
    "z = [('914', '2211'),\n",
    "  [['1698218843', ['event', 'tariffs', -1, None]],\n",
    "   ['1698218920', ['page', 'bonus', -1, 'tariffs']],\n",
    "   ['1698219836', ['page', 'rabota', -1, 'bonus']],\n",
    "   ['1698219957', ['page', 'vklad', -1, 'rabota']],\n",
    "   ['1698171414', ['page', 'main', -1, 'vklad']]]]\n",
    "\n",
    "get_route(z)"
   ]
  },
  {
   "cell_type": "markdown",
   "metadata": {},
   "source": [
    "Final result:"
   ]
  },
  {
   "cell_type": "code",
   "execution_count": 23,
   "metadata": {
    "tags": []
   },
   "outputs": [
    {
     "name": "stderr",
     "output_type": "stream",
     "text": [
      "                                                                                \r"
     ]
    },
    {
     "data": {
      "text/plain": [
       "[('main', 8185),\n",
       " ('main-archive', 1113),\n",
       " ('main-rabota', 1047),\n",
       " ('main-internet', 897),\n",
       " ('main-bonus', 870),\n",
       " ('main-news', 769),\n",
       " ('main-tariffs', 677),\n",
       " ('main-online', 587),\n",
       " ('main-vklad', 518),\n",
       " ('main-rabota-archive', 170),\n",
       " ('main-archive-rabota', 167),\n",
       " ('main-bonus-archive', 143),\n",
       " ('main-rabota-bonus', 139),\n",
       " ('main-news-rabota', 135),\n",
       " ('main-bonus-rabota', 135),\n",
       " ('main-archive-internet', 132),\n",
       " ('main-rabota-news', 130),\n",
       " ('main-internet-rabota', 129),\n",
       " ('main-archive-news', 126),\n",
       " ('main-rabota-internet', 124),\n",
       " ('main-internet-archive', 123),\n",
       " ('main-archive-bonus', 117),\n",
       " ('main-internet-bonus', 115),\n",
       " ('main-news-archive', 113),\n",
       " ('main-tariffs-internet', 113),\n",
       " ('main-news-internet', 109),\n",
       " ('main-archive-tariffs', 104),\n",
       " ('main-internet-news', 103),\n",
       " ('main-tariffs-archive', 103),\n",
       " ('main-rabota-main', 94)]"
      ]
     },
     "execution_count": 23,
     "metadata": {},
     "output_type": "execute_result"
    }
   ],
   "source": [
    "(\n",
    "    clicks_rdd\n",
    "    .map(mapper)\n",
    "    .filter(lambda x: x[0][0] != \"session_id\")\n",
    "    .groupByKey()\n",
    "    .map(lambda x: [x[0], list(x[1])])\n",
    "    .map(mapper_error)\n",
    "    .flatMap(demapper)\n",
    "    .filter(lambda x: x[1][1][2] == -1 and x[1][1][1] != x[1][1][3])\n",
    "    .groupByKey()\n",
    "    .map(lambda x: [x[0], list(x[1])])\n",
    "    .map(get_route)\n",
    "    .flatMap(lambda x: [(x[1], 1)])\n",
    "    .groupByKey()\n",
    "    .map(lambda x: (x[0], len(x[1])))\n",
    "    .sortBy(lambda x: -x[1])\n",
    "    .take(30)\n",
    ")"
   ]
  },
  {
   "cell_type": "markdown",
   "metadata": {},
   "source": [
    "Save to file:"
   ]
  },
  {
   "cell_type": "code",
   "execution_count": 24,
   "metadata": {
    "tags": []
   },
   "outputs": [
    {
     "name": "stderr",
     "output_type": "stream",
     "text": [
      "                                                                                \r"
     ]
    }
   ],
   "source": [
    "(\n",
    "    clicks_rdd\n",
    "    .map(mapper)\n",
    "    .filter(lambda x: x[0][0] != \"session_id\")\n",
    "    .groupByKey()\n",
    "    .map(lambda x: [x[0], list(x[1])])\n",
    "    .map(mapper_error)\n",
    "    .flatMap(demapper)\n",
    "    .filter(lambda x: x[1][1][2] == -1 and x[1][1][1] != x[1][1][3])\n",
    "    .groupByKey()\n",
    "    .map(lambda x: [x[0], list(x[1])])\n",
    "    .map(get_route)\n",
    "    .flatMap(lambda x: [(x[1], 1)])\n",
    "    .groupByKey()\n",
    "    .map(lambda x: (x[0], len(x[1])))\n",
    "    .sortBy(lambda x: -x[1])\n",
    "    .toDF()\n",
    "    .toPandas()[:30]\n",
    "    .to_csv('output_rdd.csv', sep='\\t', index=False)\n",
    ")"
   ]
  },
  {
   "cell_type": "markdown",
   "metadata": {},
   "source": [
    "## DF Solution"
   ]
  },
  {
   "cell_type": "code",
   "execution_count": 25,
   "metadata": {
    "tags": []
   },
   "outputs": [],
   "source": [
    "from pyspark.sql.window import Window\n",
    "from pyspark.sql.functions import lag, col, udf\n",
    "from pyspark.sql import functions as F\n",
    "from pyspark.sql.functions import desc\n",
    "from pyspark.sql.types import StringType\n",
    "\n",
    "windowSpec  = Window.partitionBy(\"user_id\", \"session_id\").orderBy(\"timestamp\")\n",
    "\n",
    "list2str = udf(lambda z: \"-\".join(z), StringType())   "
   ]
  },
  {
   "cell_type": "code",
   "execution_count": 26,
   "metadata": {
    "tags": []
   },
   "outputs": [
    {
     "name": "stdout",
     "output_type": "stream",
     "text": [
      "+-------------+----------------+---------------+--------+\n",
      "|right_user_id|right_session_id|right_timestamp|is_error|\n",
      "+-------------+----------------+---------------+--------+\n",
      "|            0|             879|     1696777359|    true|\n",
      "|            0|             898|     1697629831|    true|\n",
      "|            0|             901|     1699003239|    true|\n",
      "|            0|             912|     1700596574|    true|\n",
      "|            0|             922|     1700724457|    true|\n",
      "|            1|            1013|     1699237817|    true|\n",
      "|            1|            1030|     1700376100|    true|\n",
      "|            1|             972|     1696964963|    true|\n",
      "|            1|             981|     1697304119|    true|\n",
      "|            1|             981|     1697312938|    true|\n",
      "+-------------+----------------+---------------+--------+\n",
      "only showing top 10 rows\n",
      "\n"
     ]
    },
    {
     "name": "stderr",
     "output_type": "stream",
     "text": [
      "                                                                                \r"
     ]
    }
   ],
   "source": [
    "error_df = (\n",
    "    clicks\n",
    "    .withColumn(\"is_error\", col(\"event_type\").contains(\"error\"))\n",
    "    .sort(\"user_id\", \"session_id\", \"timestamp\")\n",
    "    .filter(\"is_error == True\")\n",
    "    .withColumnRenamed(\"timestamp\", \"right_timestamp\")\n",
    "    .withColumnRenamed(\"user_id\", \"right_user_id\")\n",
    "    .withColumnRenamed(\"session_id\", \"right_session_id\")\n",
    "    .select(\"right_user_id\", \"right_session_id\", \"right_timestamp\", \"is_error\")\n",
    ")\n",
    "\n",
    "error_df.show(10)"
   ]
  },
  {
   "cell_type": "code",
   "execution_count": 27,
   "metadata": {
    "tags": []
   },
   "outputs": [
    {
     "name": "stderr",
     "output_type": "stream",
     "text": [
      "[Stage 95:===========================================>              (6 + 2) / 8]\r"
     ]
    },
    {
     "name": "stdout",
     "output_type": "stream",
     "text": [
      "+-------+----------+----------+----------+----------+--------+\n",
      "|user_id|session_id|event_type|event_page|timestamp |lag     |\n",
      "+-------+----------+----------+----------+----------+--------+\n",
      "|0      |874       |page      |main      |1696371064|null    |\n",
      "|0      |874       |event     |main      |1696372696|main    |\n",
      "|0      |874       |event     |main      |1696373564|main    |\n",
      "|0      |874       |page      |rabota    |1696374894|main    |\n",
      "|0      |874       |event     |rabota    |1696377393|rabota  |\n",
      "|0      |874       |page      |online    |1696378229|rabota  |\n",
      "|0      |874       |event     |online    |1696378928|online  |\n",
      "|0      |879       |page      |main      |1696768416|null    |\n",
      "|0      |879       |page      |online    |1696768738|main    |\n",
      "|0      |879       |page      |tariffs   |1696768973|online  |\n",
      "|0      |879       |page      |online    |1696769277|tariffs |\n",
      "|0      |879       |event     |online    |1696770139|online  |\n",
      "|0      |879       |event     |online    |1696771080|online  |\n",
      "|0      |879       |event     |online    |1696771672|online  |\n",
      "|0      |879       |event     |online    |1696771697|online  |\n",
      "|0      |879       |event     |online    |1696771906|online  |\n",
      "|0      |879       |event     |online    |1696772091|online  |\n",
      "|0      |879       |event     |online    |1696772237|online  |\n",
      "|0      |879       |event     |online    |1696772401|online  |\n",
      "|0      |879       |event     |online    |1696772594|online  |\n",
      "|0      |879       |event     |online    |1696772694|online  |\n",
      "|0      |879       |page      |main      |1696773185|online  |\n",
      "|0      |879       |page      |internet  |1696774086|main    |\n",
      "|0      |879       |event     |internet  |1696775448|internet|\n",
      "|0      |879       |event     |internet  |1696775532|internet|\n",
      "|0      |879       |page      |online    |1696776502|internet|\n",
      "|0      |879       |event     |online    |1696776518|online  |\n",
      "|0      |879       |errorcITx |online    |1696777359|online  |\n",
      "|0      |879       |page      |archive   |1696777784|online  |\n",
      "|0      |879       |page      |rabota    |1696777821|archive |\n",
      "|0      |879       |page      |internet  |1696778279|rabota  |\n",
      "|0      |879       |event     |internet  |1696779673|internet|\n",
      "|0      |885       |page      |main      |1697348270|null    |\n",
      "|0      |885       |event     |main      |1697349342|main    |\n",
      "|0      |885       |event     |main      |1697349420|main    |\n",
      "|0      |885       |event     |main      |1697349430|main    |\n",
      "|0      |885       |event     |main      |1697350159|main    |\n",
      "|0      |885       |event     |main      |1697350529|main    |\n",
      "|0      |885       |event     |main      |1697350639|main    |\n",
      "|0      |888       |page      |main      |1697564550|null    |\n",
      "|0      |898       |page      |main      |1697594437|null    |\n",
      "|0      |898       |event     |main      |1697595231|main    |\n",
      "|0      |898       |page      |news      |1697596341|main    |\n",
      "|0      |898       |event     |news      |1697596614|news    |\n",
      "|0      |898       |event     |news      |1697597773|news    |\n",
      "|0      |898       |page      |tariffs   |1697598240|news    |\n",
      "|0      |898       |page      |rabota    |1697600131|tariffs |\n",
      "|0      |898       |event     |rabota    |1697603105|rabota  |\n",
      "|0      |898       |event     |rabota    |1697604783|rabota  |\n",
      "|0      |898       |event     |rabota    |1697604979|rabota  |\n",
      "+-------+----------+----------+----------+----------+--------+\n",
      "only showing top 50 rows\n",
      "\n"
     ]
    },
    {
     "name": "stderr",
     "output_type": "stream",
     "text": [
      "                                                                                \r"
     ]
    }
   ],
   "source": [
    "(\n",
    "    clicks\n",
    "    .withColumn(\"lag\", lag(\"event_page\",1).over(windowSpec))\n",
    "    .sort(\"user_id\", \"session_id\", \"timestamp\")\n",
    "    # .join(error_df, (clicks.user_id == error_df.right_user_id) & \n",
    "    #       (clicks.session_id == error_df.right_session_id) & \n",
    "    #       ((clicks.timestamp < error_df.right_timestamp)),\n",
    "    #      how = \"left\")\n",
    "    # .filter(\"lag <> event_page\")\n",
    "    # .select(clicks.user_id, clicks.session_id,\n",
    "    #         clicks.event_page, clicks.timestamp)\n",
    "    # .sort(clicks.user_id, clicks.session_id, clicks.timestamp)\n",
    "    # .groupby('user_id', 'session_id')\n",
    "    # .agg(F.collect_list(\"event_page\").alias(\"route\"))\n",
    "    # .groupby(\"route\")\n",
    "    # .count()\n",
    "    # .sort(desc(\"count\"))\n",
    "    .show(50, False)\n",
    ")"
   ]
  },
  {
   "cell_type": "markdown",
   "metadata": {},
   "source": [
    "Final table:"
   ]
  },
  {
   "cell_type": "code",
   "execution_count": 28,
   "metadata": {},
   "outputs": [
    {
     "name": "stderr",
     "output_type": "stream",
     "text": [
      "[Stage 103:==========================================>            (10 + 2) / 13]\r"
     ]
    },
    {
     "name": "stdout",
     "output_type": "stream",
     "text": [
      "+---------------------+-----+\n",
      "|route                |count|\n",
      "+---------------------+-----+\n",
      "|main                 |8184 |\n",
      "|main-archive         |1111 |\n",
      "|main-rabota          |1045 |\n",
      "|main-internet        |896  |\n",
      "|main-bonus           |870  |\n",
      "|main-news            |769  |\n",
      "|main-tariffs         |677  |\n",
      "|main-online          |587  |\n",
      "|main-vklad           |518  |\n",
      "|main-rabota-archive  |170  |\n",
      "|main-archive-rabota  |167  |\n",
      "|main-bonus-archive   |143  |\n",
      "|main-rabota-bonus    |139  |\n",
      "|main-news-rabota     |135  |\n",
      "|main-bonus-rabota    |135  |\n",
      "|main-archive-internet|132  |\n",
      "|main-rabota-news     |130  |\n",
      "|main-internet-rabota |129  |\n",
      "|main-archive-news    |126  |\n",
      "|main-rabota-internet |124  |\n",
      "|main-internet-archive|123  |\n",
      "|main-archive-bonus   |117  |\n",
      "|main-internet-bonus  |115  |\n",
      "|main-tariffs-internet|114  |\n",
      "|main-news-archive    |113  |\n",
      "|main-news-internet   |109  |\n",
      "|main-archive-tariffs |104  |\n",
      "|main-internet-news   |103  |\n",
      "|main-tariffs-archive |103  |\n",
      "|main-rabota-main     |94   |\n",
      "+---------------------+-----+\n",
      "only showing top 30 rows\n",
      "\n"
     ]
    },
    {
     "name": "stderr",
     "output_type": "stream",
     "text": [
      "                                                                                \r"
     ]
    }
   ],
   "source": [
    "(\n",
    "    clicks\n",
    "    .withColumn(\"lag\", lag(\"event_page\",1).over(windowSpec))\n",
    "    .join(error_df, (clicks.user_id == error_df.right_user_id) & \n",
    "          (clicks.session_id == error_df.right_session_id) & \n",
    "          ((clicks.timestamp >= error_df.right_timestamp)),\n",
    "         how = \"left\")\n",
    "    .filter(\"is_error is null\")\n",
    "    .filter(\"lag <> event_page OR lag is null\")\n",
    "    # .sort(\"user_id\", \"session_id\", \"timestamp\")\n",
    "    .select(clicks.user_id, clicks.session_id,\n",
    "            clicks.event_page, clicks.timestamp)\n",
    "    # .sort(clicks.user_id, clicks.session_id, clicks.timestamp)\n",
    "    .groupby('user_id', 'session_id')\n",
    "    .agg(F.collect_list(\"event_page\").alias(\"route\"))\n",
    "    .withColumn(\"route\", list2str(col(\"route\")))\n",
    "    .groupby(\"route\")\n",
    "    .count()\n",
    "    .sort(desc(\"count\"))\n",
    "    .show(30, False)\n",
    ")"
   ]
  },
  {
   "cell_type": "markdown",
   "metadata": {},
   "source": [
    "Save to file:"
   ]
  },
  {
   "cell_type": "code",
   "execution_count": 29,
   "metadata": {},
   "outputs": [
    {
     "name": "stderr",
     "output_type": "stream",
     "text": [
      "                                                                                \r"
     ]
    }
   ],
   "source": [
    "(\n",
    "    clicks\n",
    "    .withColumn(\"lag\", lag(\"event_page\",1).over(windowSpec))\n",
    "    .join(error_df, (clicks.user_id == error_df.right_user_id) & \n",
    "          (clicks.session_id == error_df.right_session_id) & \n",
    "          ((clicks.timestamp >= error_df.right_timestamp)),\n",
    "         how = \"left\")\n",
    "    .filter(\"is_error is null\")\n",
    "    .filter(\"lag <> event_page OR lag is null\")\n",
    "    # .sort(\"user_id\", \"session_id\", \"timestamp\")\n",
    "    .select(clicks.user_id, clicks.session_id,\n",
    "            clicks.event_page, clicks.timestamp)\n",
    "    # .sort(clicks.user_id, clicks.session_id, clicks.timestamp)\n",
    "    .groupby('user_id', 'session_id')\n",
    "    .agg(F.collect_list(\"event_page\").alias(\"route\"))\n",
    "    .withColumn(\"route\", list2str(col(\"route\")))\n",
    "    .groupby(\"route\")\n",
    "    .count()\n",
    "    .sort(desc(\"count\"))\n",
    "    .toPandas()[:30]\n",
    "    .to_csv('output_DF.csv', sep='\\t', index=False)\n",
    ")"
   ]
  },
  {
   "cell_type": "code",
   "execution_count": null,
   "metadata": {},
   "outputs": [],
   "source": []
  }
 ],
 "metadata": {
  "coursera": {
   "schema_names": [
    "week-4-spark-homework"
   ]
  },
  "kernelspec": {
   "display_name": "Python 3 (ipykernel)",
   "language": "python",
   "name": "python3"
  },
  "language_info": {
   "codemirror_mode": {
    "name": "ipython",
    "version": 3
   },
   "file_extension": ".py",
   "mimetype": "text/x-python",
   "name": "python",
   "nbconvert_exporter": "python",
   "pygments_lexer": "ipython3",
   "version": "3.10.9"
  },
  "vscode": {
   "interpreter": {
    "hash": "31f2aee4e71d21fbe5cf8b01ff0e069b9275f58929596ceb00d14d90e3e16cd6"
   }
  }
 },
 "nbformat": 4,
 "nbformat_minor": 4
}
